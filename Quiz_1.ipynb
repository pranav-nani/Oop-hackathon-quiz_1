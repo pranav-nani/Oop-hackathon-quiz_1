{
  "nbformat": 4,
  "nbformat_minor": 0,
  "metadata": {
    "colab": {
      "name": "Quiz_1.ipynb",
      "provenance": [],
      "collapsed_sections": []
    },
    "kernelspec": {
      "name": "python3",
      "display_name": "Python 3"
    },
    "language_info": {
      "name": "python"
    }
  },
  "cells": [
    {
      "cell_type": "code",
      "metadata": {
        "colab": {
          "base_uri": "https://localhost:8080/"
        },
        "id": "-Nk7dBBhxTFh",
        "outputId": "8de50e54-cbc1-4f87-da2c-3a45974e81f6"
      },
      "source": [
        "class Bloodbank:\n",
        "  def _init_(self):\n",
        "    self.hospitalname=name\n",
        "  def donars(self):\n",
        "    donar=[\"ravi AB-\",\"raju A-\",\"krishna O\",\"swetha O-\",\"akhil AB+\"]\n",
        "    for i in range(len(donar)) :\n",
        "      print(donar[i])\n",
        "  def availablebloodgroups(self):\n",
        "    dngroups=[\"AB-\",\"A-\",\"O\",\"O-\",\"AB+\"]\n",
        "    for i in range(len(dngroups)):\n",
        "      print(dngroups[i])\n",
        "\n",
        "  def notifications(self):\n",
        "    receivers=[\"ramu\",\"bharghav\",\"charan\",\"nithin\"]\n",
        "    bdgroups=[\"AB-\",\"O-\",\"AB+\",\"A-\"]\n",
        "    print(\"these are the blood requests \")\n",
        "    for i in range(len(receivers)):\n",
        "      print(\"{} wants {} blood \".format(receivers[i],bdgroups[i]))\n",
        "hsp=Bloodbank()\n",
        "bloodgroups=[\"A\",\"A-\",\"B\",\"B-\",\"O\",\"O-\",\"AB\",\"AB-\"]\n",
        "print(\"Welcome to blood bank !\")\n",
        "x=input(print(\"Are you an admin or user? \"))\n",
        "if x=='admin':\n",
        "  y=input(print(\"enter your username :\"))\n",
        "  print(\"succefully logged in as admin\")\n",
        "  hsp.hospitalname=input(print(\"enter the name of hospital having blood bank\"))\n",
        "  k=\"enter when will be blood donation camp conducts in {} hospital\"\n",
        "  donationcamp=input(print(k.format(hsp.hospitalname)))\n",
        "  hsp=Bloodbank()\n",
        "  print(\"these are the details of donars\")\n",
        "  hsp.donars()\n",
        "  print(\"Notifications !\")\n",
        "  hsp.notifications()\n",
        "\n",
        "\n",
        "\n",
        "if x=='user':\n",
        "  z=input(print(\"Are you a donor or receiver?\"))\n",
        "  if z=='donor':\n",
        "    print(\"you got a notification !\")\n",
        "    w=input(print(\"emergency blood neded would you like to donate....accept/ignore \"))\n",
        "    if w==\"accept\":\n",
        "      d=input(print(\"enter which bloodgroup do you want to donate\"))\n",
        "      print(\"thanks for donating blood !\")\n",
        "    else :\n",
        "      print(\"Exiting....\")\n",
        "    \n",
        "    if d not in bloodgroups:\n",
        "      print(\"you have entered wrong blood group ! please enter again \")\n",
        "\n",
        "    \n",
        "  if z=='receiver':\n",
        "    print(\"these are the blood groups present now in our blood bank\")\n",
        "    hsp.availablebloodgroups()\n",
        "    r=input(print(\"enter the blood group you want :\"))\n",
        "    dngroups=[\"AB-\",\"A-\",\"O\",\"O-\",\"AB+\"]\n",
        "    if r in dngroups :\n",
        "      print(\"your requested blood gruop is available \")\n",
        "      print(\"sending notification....\")\n",
        "    else :\n",
        "      print(\"your requested blood group is not available \")\n",
        "\n",
        "\n",
        "\n",
        "\n",
        "\n"
      ],
      "execution_count": 23,
      "outputs": [
        {
          "output_type": "stream",
          "name": "stdout",
          "text": [
            "Welcome to blood bank !\n",
            "Are you an admin or user? \n",
            "user\n",
            "Are you a donor or receiver?\n",
            "receiver\n",
            "these are the blood groups present now in our blood bank\n",
            "AB-\n",
            "A-\n",
            "O\n",
            "O-\n",
            "AB+\n",
            "enter the blood group you want :\n",
            "AB-\n",
            "your requested blood gruop is available \n",
            "sending notification....\n"
          ]
        }
      ]
    }
  ]
}